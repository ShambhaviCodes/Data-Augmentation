{
  "nbformat": 4,
  "nbformat_minor": 0,
  "metadata": {
    "colab": {
      "name": "Copy of DatasetAugmentation.ipynb",
      "provenance": []
    },
    "kernelspec": {
      "name": "python3",
      "display_name": "Python 3"
    }
  },
  "cells": [
    {
      "cell_type": "code",
      "metadata": {
        "id": "3ftJ5UQBj1Zh",
        "colab_type": "code",
        "colab": {
          "base_uri": "https://localhost:8080/",
          "height": 34
        },
        "outputId": "17989d48-7031-49a4-84e6-8dfabdc70fc9"
      },
      "source": [
        "from numpy import expand_dims\n",
        "from keras.preprocessing.image import load_img\n",
        "from keras.preprocessing.image import img_to_array\n",
        "from keras.preprocessing.image import ImageDataGenerator\n",
        "from matplotlib import pyplot"
      ],
      "execution_count": null,
      "outputs": [
        {
          "output_type": "stream",
          "text": [
            "Using TensorFlow backend.\n"
          ],
          "name": "stderr"
        }
      ]
    },
    {
      "cell_type": "code",
      "metadata": {
        "id": "IJUxXFrQm5_O",
        "colab_type": "code",
        "colab": {}
      },
      "source": [
        "datagen = ImageDataGenerator(\n",
        "\t\trotation_range=20,\n",
        "\t\tzoom_range=0.15,\n",
        "\t\twidth_shift_range=0.2,\n",
        "\t\theight_shift_range=0.2,\n",
        "\t\tshear_range=0.15,\n",
        "\t\thorizontal_flip=True,\n",
        "\t\tfill_mode=\"nearest\")"
      ],
      "execution_count": null,
      "outputs": []
    },
    {
      "cell_type": "code",
      "metadata": {
        "id": "Ts7jxF_jph8D",
        "colab_type": "code",
        "colab": {
          "base_uri": "https://localhost:8080/",
          "height": 34
        },
        "outputId": "c407cdc4-46ec-478f-c454-6b79d92f8a35"
      },
      "source": [
        "from google.colab import drive\n",
        "import os\n",
        "\n",
        "# mount Google Drive\n",
        "# When you mount it, you will be asked for permission, so allow it, copy the key, paste it in the input field on the Colab side, and press Enter.\n",
        "drive.mount('/gdrive')"
      ],
      "execution_count": null,
      "outputs": [
        {
          "output_type": "stream",
          "text": [
            "Drive already mounted at /gdrive; to attempt to forcibly remount, call drive.mount(\"/gdrive\", force_remount=True).\n"
          ],
          "name": "stdout"
        }
      ]
    },
    {
      "cell_type": "code",
      "metadata": {
        "id": "b2S26PFrqeB9",
        "colab_type": "code",
        "colab": {}
      },
      "source": [
        "images = '/gdrive/My Drive/blurdataset/sharp/'\n",
        "output = '/gdrive/My Drive/annotated/sharp/'"
      ],
      "execution_count": null,
      "outputs": []
    },
    {
      "cell_type": "code",
      "metadata": {
        "id": "XdaSu9fWtTSs",
        "colab_type": "code",
        "colab": {
          "base_uri": "https://localhost:8080/",
          "height": 34
        },
        "outputId": "f59a723d-42a9-4f07-cc13-313e0be88ecb"
      },
      "source": [
        "print(output)"
      ],
      "execution_count": null,
      "outputs": [
        {
          "output_type": "stream",
          "text": [
            "/gdrive/My Drive/annotated/sharp/\n"
          ],
          "name": "stdout"
        }
      ]
    },
    {
      "cell_type": "code",
      "metadata": {
        "id": "LvGBH9ZNqxJz",
        "colab_type": "code",
        "colab": {}
      },
      "source": [
        "import os\n",
        "from PIL import Image\n",
        "\n",
        "def annotate(inputpath, outputpath):\n",
        "  for image in os.listdir(inputpath) :\n",
        "    image_file = inputpath+image;\n",
        "    img = load_img(image_file)\n",
        "    x = img_to_array(img)\n",
        "    x = x.reshape((1,) + x.shape)\n",
        "    i=0\n",
        "    for batches in datagen.flow(x, batch_size=32, save_format='jpeg', save_to_dir=output):\n",
        "      i += 1\n",
        "      if i > 20:\n",
        "        break\n",
        "#20 images per image for 350 images = 7000 sharp images"
      ],
      "execution_count": null,
      "outputs": []
    },
    {
      "cell_type": "code",
      "metadata": {
        "id": "6g33AtPMsMfn",
        "colab_type": "code",
        "colab": {}
      },
      "source": [
        "annotate(images, output)   "
      ],
      "execution_count": null,
      "outputs": []
    },
    {
      "cell_type": "code",
      "metadata": {
        "id": "APIs6zwPMFy1",
        "colab_type": "code",
        "colab": {
          "base_uri": "https://localhost:8080/",
          "height": 34
        },
        "outputId": "64ee4ec5-5bea-47d7-94f3-a6465c90911a"
      },
      "source": [
        "import os\n",
        "\n",
        "list = os.listdir(output) # dir is your directory path\n",
        "number_files = len(list)\n",
        "print(number_files)"
      ],
      "execution_count": null,
      "outputs": [
        {
          "output_type": "stream",
          "text": [
            "4952\n"
          ],
          "name": "stdout"
        }
      ]
    },
    {
      "cell_type": "code",
      "metadata": {
        "id": "aAWUygeCM2VL",
        "colab_type": "code",
        "colab": {}
      },
      "source": [
        "images = '/gdrive/My Drive/blurdataset/blurred/'\n",
        "output = '/gdrive/My Drive/annotated/blur/'"
      ],
      "execution_count": null,
      "outputs": []
    },
    {
      "cell_type": "code",
      "metadata": {
        "id": "LZWKq_0aNyTL",
        "colab_type": "code",
        "colab": {}
      },
      "source": [
        "import os\n",
        "from PIL import Image\n",
        "\n",
        "def annotate(inputpath, outputpath):\n",
        "  for image in os.listdir(inputpath) :\n",
        "    image_file = inputpath+image;\n",
        "    img = load_img(image_file)\n",
        "    x = img_to_array(img)\n",
        "    x = x.reshape((1,) + x.shape)\n",
        "    i=0\n",
        "    for batches in datagen.flow(x, batch_size=32, save_format='jpeg', save_to_dir=output):\n",
        "      i += 1\n",
        "      if i > 10:\n",
        "        break"
      ],
      "execution_count": null,
      "outputs": []
    },
    {
      "cell_type": "code",
      "metadata": {
        "id": "-QeRHF6yN7uZ",
        "colab_type": "code",
        "colab": {}
      },
      "source": [
        "annotate(images, output)"
      ],
      "execution_count": null,
      "outputs": []
    }
  ]
}